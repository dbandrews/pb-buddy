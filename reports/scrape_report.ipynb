{
 "cells": [
  {
   "cell_type": "markdown",
   "metadata": {},
   "source": [
    "# Pb-Buddy Scrape Report"
   ]
  },
  {
   "cell_type": "code",
   "execution_count": 1,
   "metadata": {},
   "outputs": [
    {
     "data": {
      "text/plain": [
       "True"
      ]
     },
     "execution_count": 1,
     "metadata": {},
     "output_type": "execute_result"
    }
   ],
   "source": [
    "import pandas as pd\n",
    "import numpy as np\n",
    "from tqdm import tqdm\n",
    "from dotenv import load_dotenv\n",
    "\n",
    "# Custom code\n",
    "import pb_buddy.scraper as scraper\n",
    "import pb_buddy.utils as ut\n",
    "import pb_buddy.data_processors as dt\n",
    "from pb_buddy.resources import category_dict\n",
    "\n",
    "load_dotenv(\"../.env\")"
   ]
  },
  {
   "cell_type": "code",
   "execution_count": null,
   "metadata": {},
   "outputs": [],
   "source": [
    "\n",
    "# %%\n",
    "# Clean base data -----------------------------------------------------\n",
    "df_base_data = dt.get_dataset(-1, data_type=\"base\")\n",
    "df_sold_data = dt.get_dataset(-1, data_type=\"sold\")"
   ]
  }
 ],
 "metadata": {
  "interpreter": {
   "hash": "9d86e4e68b53c8938bea4189d6b8cc92b6638fa9191537244233c40cf1ce0c4a"
  },
  "kernelspec": {
   "display_name": "Python 3.8.12 ('pb-buddy-BzHdUS67-py3.8')",
   "language": "python",
   "name": "python3"
  },
  "language_info": {
   "codemirror_mode": {
    "name": "ipython",
    "version": 3
   },
   "file_extension": ".py",
   "mimetype": "text/x-python",
   "name": "python",
   "nbconvert_exporter": "python",
   "pygments_lexer": "ipython3",
   "version": "3.8.12"
  },
  "orig_nbformat": 4
 },
 "nbformat": 4,
 "nbformat_minor": 2
}
